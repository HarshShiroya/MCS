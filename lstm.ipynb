{
 "cells": [
  {
   "cell_type": "code",
   "execution_count": 7,
   "metadata": {},
   "outputs": [
    {
     "name": "stderr",
     "output_type": "stream",
     "text": [
      "Loading pipeline components...: 100%|██████████| 7/7 [00:01<00:00,  6.45it/s]\n",
      "100%|██████████| 200/200 [00:52<00:00,  3.80it/s]\n"
     ]
    }
   ],
   "source": [
    "import scipy\n",
    "import torch\n",
    "from diffusers import MusicLDMPipeline\n",
    "\n",
    "# load the pipeline\n",
    "repo_id = \"ucsd-reach/musicldm\"\n",
    "pipe = MusicLDMPipeline.from_pretrained(repo_id, torch_dtype=torch.float16)\n",
    "pipe = pipe.to(\"cuda\")\n",
    "\n",
    "# define the prompts\n",
    "prompt = \"piano tunes with sport scene\"\n",
    "negative_prompt = \"low quality, average quality\"\n",
    "\n",
    "# set the seed\n",
    "generator = torch.Generator(\"cuda\").manual_seed(0)\n",
    "\n",
    "# run the generation\n",
    "audio = pipe(\n",
    "    prompt,\n",
    "    negative_prompt=negative_prompt,\n",
    "    num_inference_steps=200,\n",
    "    audio_length_in_s=20.0,\n",
    "    num_waveforms_per_prompt=5,\n",
    ").audios\n",
    "\n",
    "# save the best audio sample (index 0) as a .wav file\n",
    "scipy.io.wavfile.write(\"techno.wav\", rate=16000, data=audio[0])\n"
   ]
  }
 ],
 "metadata": {
  "kernelspec": {
   "display_name": "Python 3",
   "language": "python",
   "name": "python3"
  },
  "language_info": {
   "codemirror_mode": {
    "name": "ipython",
    "version": 3
   },
   "file_extension": ".py",
   "mimetype": "text/x-python",
   "name": "python",
   "nbconvert_exporter": "python",
   "pygments_lexer": "ipython3",
   "version": "3.12.2"
  }
 },
 "nbformat": 4,
 "nbformat_minor": 2
}
